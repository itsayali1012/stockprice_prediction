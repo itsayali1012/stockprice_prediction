{
 "cells": [
  {
   "cell_type": "code",
   "execution_count": 3,
   "id": "8ed4574a-ec0f-4030-ad2f-a603a9f5f8b2",
   "metadata": {},
   "outputs": [
    {
     "name": "stdout",
     "output_type": "stream",
     "text": [
      "Collecting ta\n",
      "  Downloading ta-0.11.0.tar.gz (25 kB)\n",
      "  Preparing metadata (setup.py): started\n",
      "  Preparing metadata (setup.py): finished with status 'done'\n",
      "Requirement already satisfied: numpy in c:\\users\\athar\\anaconda3\\lib\\site-packages (from ta) (1.26.4)\n",
      "Requirement already satisfied: pandas in c:\\users\\athar\\anaconda3\\lib\\site-packages (from ta) (2.2.2)\n",
      "Requirement already satisfied: python-dateutil>=2.8.2 in c:\\users\\athar\\anaconda3\\lib\\site-packages (from pandas->ta) (2.9.0.post0)\n",
      "Requirement already satisfied: pytz>=2020.1 in c:\\users\\athar\\anaconda3\\lib\\site-packages (from pandas->ta) (2024.1)\n",
      "Requirement already satisfied: tzdata>=2022.7 in c:\\users\\athar\\anaconda3\\lib\\site-packages (from pandas->ta) (2023.3)\n",
      "Requirement already satisfied: six>=1.5 in c:\\users\\athar\\anaconda3\\lib\\site-packages (from python-dateutil>=2.8.2->pandas->ta) (1.16.0)\n",
      "Building wheels for collected packages: ta\n",
      "  Building wheel for ta (setup.py): started\n",
      "  Building wheel for ta (setup.py): finished with status 'done'\n",
      "  Created wheel for ta: filename=ta-0.11.0-py3-none-any.whl size=29421 sha256=9f4a05531354e3cb860a5a901e4644c747e5fe2dc62ee087d1bb748cc240dd6f\n",
      "  Stored in directory: c:\\users\\athar\\appdata\\local\\pip\\cache\\wheels\\5c\\a1\\5f\\c6b85a7d9452057be4ce68a8e45d77ba34234a6d46581777c6\n",
      "Successfully built ta\n",
      "Installing collected packages: ta\n",
      "Successfully installed ta-0.11.0\n"
     ]
    }
   ],
   "source": [
    "!pip install ta\n"
   ]
  },
  {
   "cell_type": "code",
   "execution_count": 1,
   "id": "42a3b678-95e4-4401-a252-052ea9be4ea0",
   "metadata": {},
   "outputs": [],
   "source": [
    "import pandas as pd\n",
    "import numpy as np\n",
    "import yfinance as yf\n",
    "from sklearn.preprocessing import MinMaxScaler\n",
    "from keras.models import Sequential\n",
    "from keras.layers import LSTM, Dense, Dropout\n",
    "import ta  # for technical indicators\n"
   ]
  },
  {
   "cell_type": "code",
   "execution_count": 2,
   "id": "36ee5417-6d69-4506-9b47-535fbe22b94c",
   "metadata": {},
   "outputs": [],
   "source": [
    "features = [\n",
    "    'Close', 'Volume', 'Daily_Returns', 'RSI', 'MACD',\n",
    "    'SMA_10', 'SMA_50', 'EMA_10',\n",
    "    'Bollinger_Upper', 'Bollinger_Lower',\n",
    "    'ATR', 'OBV', 'Historical_Volatility'\n",
    "]\n"
   ]
  },
  {
   "cell_type": "code",
   "execution_count": 5,
   "id": "8d762c2d-3f8d-46d0-af70-10aec7b98693",
   "metadata": {},
   "outputs": [],
   "source": [
    "def download_data(stock):\n",
    "    df = yf.download(stock, period=\"5y\")\n",
    "    df.dropna(inplace=True)\n",
    "\n",
    "    # Ensure Series input\n",
    "    close = df['Close'].squeeze()\n",
    "    high = df['High'].squeeze()\n",
    "    low = df['Low'].squeeze()\n",
    "    volume = df['Volume'].squeeze()\n",
    "\n",
    "    # Daily Returns\n",
    "    df['Daily_Returns'] = close.pct_change()\n",
    "\n",
    "    # RSI\n",
    "    rsi_indicator = ta.momentum.RSIIndicator(close=close)\n",
    "    df['RSI'] = rsi_indicator.rsi()\n",
    "\n",
    "    # MACD\n",
    "    macd_indicator = ta.trend.MACD(close=close)\n",
    "    df['MACD'] = macd_indicator.macd()\n",
    "\n",
    "    # SMA and EMA\n",
    "    df['SMA_10'] = close.rolling(window=10).mean()\n",
    "    df['SMA_50'] = close.rolling(window=50).mean()\n",
    "    df['EMA_10'] = close.ewm(span=10, adjust=False).mean()\n",
    "\n",
    "    # Bollinger Bands\n",
    "    bb_indicator = ta.volatility.BollingerBands(close=close)\n",
    "    df['Bollinger_Upper'] = bb_indicator.bollinger_hband()\n",
    "    df['Bollinger_Lower'] = bb_indicator.bollinger_lband()\n",
    "\n",
    "    # ATR\n",
    "    atr_indicator = ta.volatility.AverageTrueRange(high=high, low=low, close=close)\n",
    "    df['ATR'] = atr_indicator.average_true_range()\n",
    "\n",
    "    # OBV\n",
    "    obv_indicator = ta.volume.OnBalanceVolumeIndicator(close=close, volume=volume)\n",
    "    df['OBV'] = obv_indicator.on_balance_volume()\n",
    "\n",
    "    # Historical Volatility (standard deviation of daily returns * sqrt(252))\n",
    "    df['Historical_Volatility'] = df['Daily_Returns'].rolling(window=21).std() * np.sqrt(252)\n",
    "\n",
    "    # Drop NaNs after adding indicators\n",
    "    df.dropna(inplace=True)\n",
    "    return df\n"
   ]
  },
  {
   "cell_type": "code",
   "execution_count": 7,
   "id": "0790c110-78a6-4858-81df-e174c19a8b7e",
   "metadata": {},
   "outputs": [],
   "source": [
    "def scale_data(df, features):\n",
    "    scaler = MinMaxScaler()\n",
    "    scaled = scaler.fit_transform(df[features])\n",
    "    return scaler, scaled\n"
   ]
  },
  {
   "cell_type": "code",
   "execution_count": 9,
   "id": "3f3d91a0-57df-43f5-b433-f94fd9b7c697",
   "metadata": {},
   "outputs": [],
   "source": [
    "def prepare_sequences(scaled_data, sequence_length=100):\n",
    "    X, y = [], []\n",
    "    for i in range(sequence_length, len(scaled_data)):\n",
    "        X.append(scaled_data[i-sequence_length:i])\n",
    "        y.append(scaled_data[i][0])  # predicting 'Close' price\n",
    "    return np.array(X), np.array(y)\n"
   ]
  },
  {
   "cell_type": "code",
   "execution_count": 11,
   "id": "565cb9f6-4a35-4a9a-ac3a-94e76a52c722",
   "metadata": {},
   "outputs": [],
   "source": [
    "def build_model(input_shape):\n",
    "    model = Sequential()\n",
    "    model.add(LSTM(64, return_sequences=True, input_shape=input_shape))\n",
    "    model.add(Dropout(0.2))\n",
    "    model.add(LSTM(64))\n",
    "    model.add(Dropout(0.2))\n",
    "    model.add(Dense(1))\n",
    "    model.compile(optimizer='adam', loss='mean_squared_error')\n",
    "    return model\n"
   ]
  },
  {
   "cell_type": "code",
   "execution_count": 24,
   "id": "ef683f8f-6d00-4261-98dc-0808733b09a9",
   "metadata": {},
   "outputs": [],
   "source": [
    "indian_stocks = [\n",
    "    \"RELIANCE.NS\", \"TCS.NS\", \"INFY.NS\", \"HDFCBANK.NS\", \"ICICIBANK.NS\", \"LT.NS\", \"KOTAKBANK.NS\", \n",
    "    \"HINDUNILVR.NS\", \"SBIN.NS\", \"BAJFINANCE.NS\", \"WIPRO.NS\", \"HCLTECH.NS\", \"AXISBANK.NS\", \"ITC.NS\"\n",
    "\n",
    "]\n"
   ]
  },
  {
   "cell_type": "code",
   "execution_count": 26,
   "id": "4ae005d8-b6f4-405d-9be7-ee32cfe37b73",
   "metadata": {},
   "outputs": [
    {
     "name": "stdout",
     "output_type": "stream",
     "text": [
      "Training for RELIANCE.NS\n"
     ]
    },
    {
     "name": "stderr",
     "output_type": "stream",
     "text": [
      "[*********************100%***********************]  1 of 1 completed\n",
      "C:\\Users\\athar\\anaconda3\\Lib\\site-packages\\keras\\src\\layers\\rnn\\rnn.py:204: UserWarning: Do not pass an `input_shape`/`input_dim` argument to a layer. When using Sequential models, prefer using an `Input(shape)` object as the first layer in the model instead.\n",
      "  super().__init__(**kwargs)\n"
     ]
    },
    {
     "name": "stdout",
     "output_type": "stream",
     "text": [
      "Training for TCS.NS\n"
     ]
    },
    {
     "name": "stderr",
     "output_type": "stream",
     "text": [
      "[*********************100%***********************]  1 of 1 completed\n",
      "C:\\Users\\athar\\anaconda3\\Lib\\site-packages\\keras\\src\\layers\\rnn\\rnn.py:204: UserWarning: Do not pass an `input_shape`/`input_dim` argument to a layer. When using Sequential models, prefer using an `Input(shape)` object as the first layer in the model instead.\n",
      "  super().__init__(**kwargs)\n"
     ]
    },
    {
     "name": "stdout",
     "output_type": "stream",
     "text": [
      "Training for INFY.NS\n"
     ]
    },
    {
     "name": "stderr",
     "output_type": "stream",
     "text": [
      "[*********************100%***********************]  1 of 1 completed\n",
      "C:\\Users\\athar\\anaconda3\\Lib\\site-packages\\keras\\src\\layers\\rnn\\rnn.py:204: UserWarning: Do not pass an `input_shape`/`input_dim` argument to a layer. When using Sequential models, prefer using an `Input(shape)` object as the first layer in the model instead.\n",
      "  super().__init__(**kwargs)\n"
     ]
    },
    {
     "name": "stdout",
     "output_type": "stream",
     "text": [
      "Training for HDFCBANK.NS\n"
     ]
    },
    {
     "name": "stderr",
     "output_type": "stream",
     "text": [
      "[*********************100%***********************]  1 of 1 completed\n",
      "C:\\Users\\athar\\anaconda3\\Lib\\site-packages\\keras\\src\\layers\\rnn\\rnn.py:204: UserWarning: Do not pass an `input_shape`/`input_dim` argument to a layer. When using Sequential models, prefer using an `Input(shape)` object as the first layer in the model instead.\n",
      "  super().__init__(**kwargs)\n"
     ]
    },
    {
     "name": "stdout",
     "output_type": "stream",
     "text": [
      "Training for ICICIBANK.NS\n"
     ]
    },
    {
     "name": "stderr",
     "output_type": "stream",
     "text": [
      "[*********************100%***********************]  1 of 1 completed\n",
      "C:\\Users\\athar\\anaconda3\\Lib\\site-packages\\keras\\src\\layers\\rnn\\rnn.py:204: UserWarning: Do not pass an `input_shape`/`input_dim` argument to a layer. When using Sequential models, prefer using an `Input(shape)` object as the first layer in the model instead.\n",
      "  super().__init__(**kwargs)\n"
     ]
    },
    {
     "name": "stdout",
     "output_type": "stream",
     "text": [
      "Training for LT.NS\n"
     ]
    },
    {
     "name": "stderr",
     "output_type": "stream",
     "text": [
      "[*********************100%***********************]  1 of 1 completed\n",
      "C:\\Users\\athar\\anaconda3\\Lib\\site-packages\\keras\\src\\layers\\rnn\\rnn.py:204: UserWarning: Do not pass an `input_shape`/`input_dim` argument to a layer. When using Sequential models, prefer using an `Input(shape)` object as the first layer in the model instead.\n",
      "  super().__init__(**kwargs)\n"
     ]
    },
    {
     "name": "stdout",
     "output_type": "stream",
     "text": [
      "Training for KOTAKBANK.NS\n"
     ]
    },
    {
     "name": "stderr",
     "output_type": "stream",
     "text": [
      "[*********************100%***********************]  1 of 1 completed\n",
      "C:\\Users\\athar\\anaconda3\\Lib\\site-packages\\keras\\src\\layers\\rnn\\rnn.py:204: UserWarning: Do not pass an `input_shape`/`input_dim` argument to a layer. When using Sequential models, prefer using an `Input(shape)` object as the first layer in the model instead.\n",
      "  super().__init__(**kwargs)\n"
     ]
    },
    {
     "name": "stdout",
     "output_type": "stream",
     "text": [
      "Training for HINDUNILVR.NS\n"
     ]
    },
    {
     "name": "stderr",
     "output_type": "stream",
     "text": [
      "[*********************100%***********************]  1 of 1 completed\n",
      "C:\\Users\\athar\\anaconda3\\Lib\\site-packages\\keras\\src\\layers\\rnn\\rnn.py:204: UserWarning: Do not pass an `input_shape`/`input_dim` argument to a layer. When using Sequential models, prefer using an `Input(shape)` object as the first layer in the model instead.\n",
      "  super().__init__(**kwargs)\n"
     ]
    },
    {
     "name": "stdout",
     "output_type": "stream",
     "text": [
      "Training for SBIN.NS\n"
     ]
    },
    {
     "name": "stderr",
     "output_type": "stream",
     "text": [
      "[*********************100%***********************]  1 of 1 completed\n",
      "C:\\Users\\athar\\anaconda3\\Lib\\site-packages\\keras\\src\\layers\\rnn\\rnn.py:204: UserWarning: Do not pass an `input_shape`/`input_dim` argument to a layer. When using Sequential models, prefer using an `Input(shape)` object as the first layer in the model instead.\n",
      "  super().__init__(**kwargs)\n"
     ]
    },
    {
     "name": "stdout",
     "output_type": "stream",
     "text": [
      "Training for BAJFINANCE.NS\n"
     ]
    },
    {
     "name": "stderr",
     "output_type": "stream",
     "text": [
      "[*********************100%***********************]  1 of 1 completed\n",
      "C:\\Users\\athar\\anaconda3\\Lib\\site-packages\\keras\\src\\layers\\rnn\\rnn.py:204: UserWarning: Do not pass an `input_shape`/`input_dim` argument to a layer. When using Sequential models, prefer using an `Input(shape)` object as the first layer in the model instead.\n",
      "  super().__init__(**kwargs)\n"
     ]
    },
    {
     "name": "stdout",
     "output_type": "stream",
     "text": [
      "Training for WIPRO.NS\n"
     ]
    },
    {
     "name": "stderr",
     "output_type": "stream",
     "text": [
      "[*********************100%***********************]  1 of 1 completed\n",
      "C:\\Users\\athar\\anaconda3\\Lib\\site-packages\\keras\\src\\layers\\rnn\\rnn.py:204: UserWarning: Do not pass an `input_shape`/`input_dim` argument to a layer. When using Sequential models, prefer using an `Input(shape)` object as the first layer in the model instead.\n",
      "  super().__init__(**kwargs)\n"
     ]
    },
    {
     "name": "stdout",
     "output_type": "stream",
     "text": [
      "Training for HCLTECH.NS\n"
     ]
    },
    {
     "name": "stderr",
     "output_type": "stream",
     "text": [
      "[*********************100%***********************]  1 of 1 completed\n",
      "C:\\Users\\athar\\anaconda3\\Lib\\site-packages\\keras\\src\\layers\\rnn\\rnn.py:204: UserWarning: Do not pass an `input_shape`/`input_dim` argument to a layer. When using Sequential models, prefer using an `Input(shape)` object as the first layer in the model instead.\n",
      "  super().__init__(**kwargs)\n"
     ]
    },
    {
     "name": "stdout",
     "output_type": "stream",
     "text": [
      "Training for AXISBANK.NS\n"
     ]
    },
    {
     "name": "stderr",
     "output_type": "stream",
     "text": [
      "[*********************100%***********************]  1 of 1 completed\n",
      "C:\\Users\\athar\\anaconda3\\Lib\\site-packages\\keras\\src\\layers\\rnn\\rnn.py:204: UserWarning: Do not pass an `input_shape`/`input_dim` argument to a layer. When using Sequential models, prefer using an `Input(shape)` object as the first layer in the model instead.\n",
      "  super().__init__(**kwargs)\n"
     ]
    },
    {
     "name": "stdout",
     "output_type": "stream",
     "text": [
      "Training for ITC.NS\n"
     ]
    },
    {
     "name": "stderr",
     "output_type": "stream",
     "text": [
      "[*********************100%***********************]  1 of 1 completed\n",
      "C:\\Users\\athar\\anaconda3\\Lib\\site-packages\\keras\\src\\layers\\rnn\\rnn.py:204: UserWarning: Do not pass an `input_shape`/`input_dim` argument to a layer. When using Sequential models, prefer using an `Input(shape)` object as the first layer in the model instead.\n",
      "  super().__init__(**kwargs)\n"
     ]
    }
   ],
   "source": [
    "models_dict = {}\n",
    "scalers_dict = {}\n",
    "data_dict = {}\n",
    "\n",
    "for symbol in indian_stocks:  # List of 50 stock tickers\n",
    "    print(f\"Training for {symbol}\")\n",
    "    df = download_data(symbol)\n",
    "    data_dict[symbol] = df  # Save for prediction\n",
    "    scaler, scaled = scale_data(df, features)\n",
    "    X, y = prepare_sequences(scaled)\n",
    "    X = X.reshape((X.shape[0], X.shape[1], len(features)))\n",
    "\n",
    "    model = build_model(X.shape[1:])\n",
    "    model.fit(X, y, epochs=8, batch_size=32, verbose=0)\n",
    "    \n",
    "    models_dict[symbol] = model\n",
    "    scalers_dict[symbol] = scaler\n"
   ]
  },
  {
   "cell_type": "code",
   "execution_count": 84,
   "id": "2eeee627-2156-495c-8be6-3687a1aa0d8a",
   "metadata": {},
   "outputs": [],
   "source": [
    "import datetime\n",
    "\n",
    "def predict_future_prices(symbol):\n",
    "    df = data_dict[symbol]\n",
    "    model = models_dict[symbol]\n",
    "    scaler = scalers_dict[symbol]\n",
    "\n",
    "    last_known = df[features].values[-60:]  # last 60 rows\n",
    "    last_scaled = scaler.transform(last_known)\n",
    "    input_seq = last_scaled.reshape(1, 60, len(features))\n",
    "\n",
    "    periods = {\n",
    "        \"Next Day\": 1,\n",
    "        \"Next Week\": 7,\n",
    "        \"Next Month\": 30,\n",
    "        # \"3 Months\": 90\n",
    "        # Removed \"6 Months\": 180\n",
    "    }\n",
    "\n",
    "    base_date = df.index[-1]\n",
    "    predictions = []\n",
    "    predicted_prices = []\n",
    "\n",
    "    for period, offset in periods.items():\n",
    "        X = input_seq.copy()\n",
    "\n",
    "        # Predict iteratively day by day\n",
    "        for _ in range(offset):\n",
    "            pred = model.predict(X)[0][0]\n",
    "            next_row = X[0, -1].copy()\n",
    "            next_row[0] = pred  # put predicted close price as new close\n",
    "\n",
    "            X = np.append(X[0], [next_row], axis=0)[-60:]\n",
    "            X = X.reshape(1, 60, len(features))\n",
    "\n",
    "        # Inverse transform predicted close price\n",
    "        dummy = np.zeros((1, len(features)))\n",
    "        dummy[0][0] = pred\n",
    "        predicted_price = scaler.inverse_transform(dummy)[0][0]\n",
    "\n",
    "        predict_date = base_date + datetime.timedelta(days=offset)\n",
    "        predictions.append([period, predict_date.strftime(\"%Y-%m-%d\"), round(predicted_price, 2), \"-\"])\n",
    "        predicted_prices.append((predict_date, predicted_price))\n",
    "\n",
    "    return predictions, df, predicted_prices\n"
   ]
  },
  {
   "cell_type": "code",
   "execution_count": 86,
   "id": "de2a5d47-19e1-4b2a-a1f5-aab24d323e6b",
   "metadata": {},
   "outputs": [],
   "source": [
    "import gradio as gr\n"
   ]
  },
  {
   "cell_type": "code",
   "execution_count": 88,
   "id": "112fded8-7272-44f6-913f-837ad335e84c",
   "metadata": {},
   "outputs": [
    {
     "name": "stdout",
     "output_type": "stream",
     "text": [
      "* Running on local URL:  http://127.0.0.1:7870\n",
      "\n",
      "To create a public link, set `share=True` in `launch()`.\n"
     ]
    },
    {
     "data": {
      "text/html": [
       "<div><iframe src=\"http://127.0.0.1:7870/\" width=\"100%\" height=\"500\" allow=\"autoplay; camera; microphone; clipboard-read; clipboard-write;\" frameborder=\"0\" allowfullscreen></iframe></div>"
      ],
      "text/plain": [
       "<IPython.core.display.HTML object>"
      ]
     },
     "metadata": {},
     "output_type": "display_data"
    },
    {
     "data": {
      "text/plain": []
     },
     "execution_count": 88,
     "metadata": {},
     "output_type": "execute_result"
    }
   ],
   "source": [
    "import pandas as pd\n",
    "import matplotlib.pyplot as plt\n",
    "import gradio as gr  # Make sure Gradio is imported\n",
    "\n",
    "def gradio_predict(symbol):\n",
    "    table_data, df, points = predict_future_prices(symbol)\n",
    "\n",
    "    # Clean up table_data by removing 'Accuracy (%)' column if present\n",
    "    # Let's say each row has 4 items and the 4th is accuracy\n",
    "    if len(table_data) > 0 and len(table_data[0]) == 4:\n",
    "        table_data = [row[:3] for row in table_data]  # Keep only first 3 elements: Period, Date, Price\n",
    "\n",
    "    table_df = pd.DataFrame(table_data, columns=[\"Period\", \"Date\", \"Predicted Price (₹)\"])\n",
    "\n",
    "    # Plot\n",
    "    plt.figure(figsize=(10, 5))\n",
    "    plt.plot(df.index[-180:], df['Close'][-180:], label='Historical Close')\n",
    "    for date, price in points:\n",
    "        plt.scatter(date, price, color='red')\n",
    "        plt.text(date, price, f\"{round(price, 2)}\", fontsize=8)\n",
    "    plt.title(f\"Prediction for {symbol}\")\n",
    "    plt.xlabel(\"Date\")\n",
    "    plt.ylabel(\"Price (₹)\")\n",
    "    plt.legend()\n",
    "    plt.tight_layout()\n",
    "\n",
    "    return table_df, plt\n",
    "\n",
    "gr.Interface(\n",
    "    fn=gradio_predict,\n",
    "    inputs=gr.Dropdown(indian_stocks, label=\"Select a Stock\"),\n",
    "    outputs=[\n",
    "        gr.Dataframe(headers=[\"Period\", \"Date\", \"Predicted Price (₹)\"], label=\"Prediction Table\"),\n",
    "        gr.Plot(label=\"Stock Chart with Predictions\")\n",
    "    ],\n",
    "    title=\"📈 Indian Stock Price Predictor\",\n",
    "    description=\"Select a stock to view future price predictions with graph and tabular output.\"\n",
    ").launch()\n"
   ]
  },
  {
   "cell_type": "code",
   "execution_count": null,
   "id": "853deb0a-f363-4b52-b691-a012601d0e42",
   "metadata": {},
   "outputs": [],
   "source": []
  }
 ],
 "metadata": {
  "kernelspec": {
   "display_name": "Python 3 (ipykernel)",
   "language": "python",
   "name": "python3"
  },
  "language_info": {
   "codemirror_mode": {
    "name": "ipython",
    "version": 3
   },
   "file_extension": ".py",
   "mimetype": "text/x-python",
   "name": "python",
   "nbconvert_exporter": "python",
   "pygments_lexer": "ipython3",
   "version": "3.12.4"
  }
 },
 "nbformat": 4,
 "nbformat_minor": 5
}
